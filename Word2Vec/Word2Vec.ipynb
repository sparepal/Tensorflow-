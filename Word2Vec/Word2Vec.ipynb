{
 "cells": [
  {
   "cell_type": "code",
   "execution_count": 1,
   "metadata": {},
   "outputs": [
    {
     "name": "stderr",
     "output_type": "stream",
     "text": [
      "/Users/sainishanthdilly/anaconda3/lib/python3.6/site-packages/h5py/__init__.py:34: FutureWarning: Conversion of the second argument of issubdtype from `float` to `np.floating` is deprecated. In future, it will be treated as `np.float64 == np.dtype(float).type`.\n",
      "  from ._conv import register_converters as _register_converters\n"
     ]
    }
   ],
   "source": [
    "from __future__ import absolute_import\n",
    "from __future__ import division\n",
    "from __future__ import print_function\n",
    "from gensim.corpora import WikiCorpus\n",
    "import logging\n",
    "import collections\n",
    "import math\n",
    "import os\n",
    "import six\n",
    "import random\n",
    "import zipfile\n",
    "import sys\n",
    "import pandas as pd\n",
    "import numpy as np\n",
    "from six.moves import urllib\n",
    "from six.moves import xrange  # pylint: disable=redefined-builtin\n",
    "import tensorflow as tf"
   ]
  },
  {
   "cell_type": "code",
   "execution_count": 2,
   "metadata": {
    "collapsed": true
   },
   "outputs": [],
   "source": [
    "def read_data(filename):\n",
    "    with open(filename) as f:\n",
    "        lines = f.read().split(' ')\n",
    "    return lines"
   ]
  },
  {
   "cell_type": "code",
   "execution_count": 4,
   "metadata": {},
   "outputs": [],
   "source": [
    "def build_dataset(words, n_words):\n",
    "    count = [['UNK', -1]]\n",
    "    count.extend(collections.Counter(words).most_common(n_words - 1))\n",
    "    dictionary = dict()\n",
    "    for word, _ in count:\n",
    "        dictionary[word] = len(dictionary)\n",
    "    data = list()\n",
    "    unk_count = 0\n",
    "    for word in words:\n",
    "        if word in dictionary:\n",
    "            index = dictionary[word]\n",
    "        else:\n",
    "            index = 0  # dictionary['UNK']\n",
    "            unk_count += 1\n",
    "        data.append(index)\n",
    "    count[0][1] = unk_count\n",
    "    reversed_dictionary = dict(zip(dictionary.values(), dictionary.keys()))\n",
    "    return data, count, dictionary, reversed_dictionary"
   ]
  },
  {
   "cell_type": "code",
   "execution_count": 5,
   "metadata": {
    "collapsed": true
   },
   "outputs": [],
   "source": [
    "def generate_batch(batch_size, num_skips, skip_window):\n",
    "    global data_index\n",
    "    assert batch_size % num_skips == 0\n",
    "    assert num_skips <= 2 * skip_window\n",
    "    batch = np.ndarray(shape=(batch_size), dtype=np.int32)\n",
    "    labels = np.ndarray(shape=(batch_size, 1), dtype=np.int32)\n",
    "    span = 2 * skip_window + 1  # [ skip_window target skip_window ]\n",
    "    buffer = collections.deque(maxlen=span)\n",
    "    if data_index + span > len(data):\n",
    "        data_index = 0\n",
    "    buffer.extend(data[data_index:data_index + span])\n",
    "    data_index += span\n",
    "    for i in range(batch_size // num_skips):\n",
    "        target = skip_window  # target label at the center of the buffer\n",
    "        targets_to_avoid = [skip_window]\n",
    "        for j in range(num_skips):\n",
    "            while target in targets_to_avoid:\n",
    "                target = random.randint(0, span - 1)\n",
    "            targets_to_avoid.append(target)\n",
    "            batch[i * num_skips + j] = buffer[skip_window]\n",
    "            labels[i * num_skips + j, 0] = buffer[target]\n",
    "        if data_index == len(data):\n",
    "            buffer[:] = data[:span]\n",
    "            data_index = span\n",
    "        else:\n",
    "            buffer.append(data[data_index])\n",
    "            data_index += 1\n",
    "  # Backtrack a little bit to avoid skipping words in the end of a batch\n",
    "    data_index = (data_index + len(data) - span) % len(data)\n",
    "    return batch, labels"
   ]
  },
  {
   "cell_type": "code",
   "execution_count": 6,
   "metadata": {
    "collapsed": true
   },
   "outputs": [],
   "source": [
    "def plot_with_labels(low_dim_embs, labels, filename='tsne.png'):\n",
    "    assert low_dim_embs.shape[0] >= len(labels), 'More labels than embeddings'\n",
    "    plt.figure(figsize=(18, 18))  # in inches\n",
    "    for i, label in enumerate(labels):\n",
    "        x, y = low_dim_embs[i, :]\n",
    "        plt.scatter(x, y)\n",
    "        plt.annotate(label,\n",
    "                 xy=(x, y),\n",
    "                 xytext=(5, 2),\n",
    "                 textcoords='offset points',\n",
    "                 ha='right',\n",
    "                 va='bottom')\n",
    "\n",
    "    plt.savefig(filename)"
   ]
  },
  {
   "cell_type": "code",
   "execution_count": 10,
   "metadata": {},
   "outputs": [],
   "source": [
    "url = 'http://mattmahoney.net/dc/'\n",
    "program = os.path.basename(sys.argv[0])\n",
    "logger = logging.getLogger(program)"
   ]
  },
  {
   "cell_type": "code",
   "execution_count": 11,
   "metadata": {},
   "outputs": [
    {
     "name": "stdout",
     "output_type": "stream",
     "text": [
      "<_io.TextIOWrapper name='simplewiki-20180220-pages-articles-multistream_output.txt' mode='w' encoding='UTF-8'>\n"
     ]
    }
   ],
   "source": [
    "outp = \"simplewiki-20180220-pages-articles-multistream_output.txt\"\n",
    "inp =  \"simplewiki-20180220-pages-articles-multistream.xml.bz2\"\n",
    "output = open(outp, 'w')\n",
    "wiki = WikiCorpus(inp, lemmatize=False, dictionary={})"
   ]
  },
  {
   "cell_type": "code",
   "execution_count": 12,
   "metadata": {
    "collapsed": true
   },
   "outputs": [],
   "source": [
    "i = 0\n",
    "for text in wiki.get_texts():\n",
    "    output.write(\" \".join(text) + \"\\n\")\n",
    "    i = i + 1\n",
    "    if (i % 1000 == 0):\n",
    "        logger.info(\"Saved \" + str(i) + \" articles\")\n",
    "output.close()\n",
    "logger.info(\"Finished Saved \" + str(i) + \" articles\")"
   ]
  },
  {
   "cell_type": "code",
   "execution_count": 13,
   "metadata": {},
   "outputs": [
    {
     "name": "stdout",
     "output_type": "stream",
     "text": [
      "Data size 23344484\n"
     ]
    }
   ],
   "source": [
    "vocabulary = read_data(outp)\n",
    "print('Data size', len(vocabulary))"
   ]
  },
  {
   "cell_type": "code",
   "execution_count": 14,
   "metadata": {
    "collapsed": true
   },
   "outputs": [],
   "source": [
    "vocabulary_size = 50000\n",
    "data, count, dictionary, reverse_dictionary = build_dataset(vocabulary,vocabulary_size)"
   ]
  },
  {
   "cell_type": "code",
   "execution_count": 15,
   "metadata": {
    "collapsed": true
   },
   "outputs": [],
   "source": [
    "del vocabulary  # Hint to reduce memory."
   ]
  },
  {
   "cell_type": "code",
   "execution_count": 16,
   "metadata": {},
   "outputs": [
    {
     "name": "stdout",
     "output_type": "stream",
     "text": [
      "Most common words (+UNK) [['UNK', 1187634], ('the', 1494190), ('of', 772327), ('in', 599958), ('and', 576489)]\n",
      "Sample data [115, 6, 1, 62, 832, 2, 1, 78, 4, 601] ['april', 'is', 'the', 'th', 'month', 'of', 'the', 'year', 'and', 'comes']\n"
     ]
    }
   ],
   "source": [
    "print('Most common words (+UNK)', count[:5])\n",
    "print('Sample data', data[:10], [reverse_dictionary[i] for i in data[:10]])"
   ]
  },
  {
   "cell_type": "code",
   "execution_count": 17,
   "metadata": {
    "collapsed": true
   },
   "outputs": [],
   "source": [
    "# sliding pointer over all the data\n",
    "data_index = 0"
   ]
  },
  {
   "cell_type": "code",
   "execution_count": 19,
   "metadata": {},
   "outputs": [
    {
     "name": "stdout",
     "output_type": "stream",
     "text": [
      "april is the th month of the year and comes between march and may it is one of four months to have days april always begins on the same day of week as july and additionally january in leap years april always ends on the same day of the week as december april flowers are the sweet pea and daisy its birthstone is the diamond the meaning of the diamond is innocence the month spring flowers in april in the northern hemisphere april comes between march and may making it the fourth month of the year it also comes first the ['and', 'month', 'of', 'year']\n",
      "year ['comes', 'of', 'the', 'and']\n",
      "and ['the', 'between', 'comes', 'year']\n",
      "comes ['and', 'between', 'march', 'year']\n"
     ]
    }
   ],
   "source": [
    "for i in range(100): # print first 100 words\n",
    "    print(reverse_dictionary[data[i]],end=' ')\n",
    "batch, labels = generate_batch(batch_size=16, num_skips=4, skip_window=2)\n",
    "cur_target = ''\n",
    "cur_context = []\n",
    "for i in range(16):\n",
    "    if cur_target!=batch[i]:\n",
    "        if cur_target!='':\n",
    "            print(reverse_dictionary[cur_target], cur_context)\n",
    "        cur_target = batch[i]\n",
    "        cur_context = [reverse_dictionary[labels[i, 0]]]\n",
    "    else:\n",
    "        cur_context.append(reverse_dictionary[labels[i, 0]])\n",
    "        \n",
    "print(reverse_dictionary[cur_target], cur_context)"
   ]
  },
  {
   "cell_type": "code",
   "execution_count": 20,
   "metadata": {
    "collapsed": true
   },
   "outputs": [],
   "source": [
    "# reset sliding pointer over all the data\n",
    "data_index = 0"
   ]
  },
  {
   "cell_type": "code",
   "execution_count": 21,
   "metadata": {
    "collapsed": true
   },
   "outputs": [],
   "source": [
    "batch_size = 128\n",
    "embedding_size = 60  # Dimension of the embedding vector.\n",
    "skip_window = 1       # How many words to consider left and right.\n",
    "num_skips = 2         # How many times to reuse an input to generate a label."
   ]
  },
  {
   "cell_type": "code",
   "execution_count": 22,
   "metadata": {
    "collapsed": true
   },
   "outputs": [],
   "source": [
    "# We pick a random validation set to sample nearest neighbors. Here we limit the\n",
    "# validation samples to the words that have a low numeric ID, which by\n",
    "# construction are also the most frequent.\n",
    "valid_size = 16     # Random set of words to evaluate similarity on.\n",
    "valid_window = 100  # Only pick dev samples in the head of the distribution.\n",
    "np.random.seed(10)\n",
    "valid_examples = np.random.choice(valid_window, valid_size, replace=False)\n",
    "# add some known words\n",
    "known_words = np.array([dictionary['april'],dictionary['year'],dictionary['world'],dictionary['country']])\n",
    "#know_word = np.array([])\n",
    "valid_examples = np.append(known_words, valid_examples)"
   ]
  },
  {
   "cell_type": "code",
   "execution_count": 24,
   "metadata": {
    "collapsed": true
   },
   "outputs": [],
   "source": [
    "num_sampled = 64    # Number of negative examples to sample."
   ]
  },
  {
   "cell_type": "code",
   "execution_count": 25,
   "metadata": {
    "collapsed": true
   },
   "outputs": [],
   "source": [
    "graph = tf.Graph()"
   ]
  },
  {
   "cell_type": "code",
   "execution_count": 27,
   "metadata": {},
   "outputs": [
    {
     "name": "stdout",
     "output_type": "stream",
     "text": [
      "Tensor(\"MatMul_3:0\", shape=(20, 50000), dtype=float32)\n"
     ]
    }
   ],
   "source": [
    "with graph.as_default():\n",
    "  # Input data.\n",
    "  train_inputs = tf.placeholder(tf.int32, shape=[batch_size])\n",
    "  train_labels = tf.placeholder(tf.int32, shape=[batch_size, 1])\n",
    "  valid_dataset = tf.constant(valid_examples, dtype=tf.int32)\n",
    "\n",
    "  # Ops and variables pinned to the CPU because of missing GPU implementation\n",
    "  with tf.device('/cpu:0'):\n",
    "    # Look up embeddings for inputs.\n",
    "    embeddings = tf.Variable(\n",
    "        tf.random_uniform([vocabulary_size, embedding_size], -1.0, 1.0))\n",
    "    embed = tf.nn.embedding_lookup(embeddings, train_inputs)\n",
    "\n",
    "    # Construct the variables for the NCE loss\n",
    "    nce_weights = tf.Variable(\n",
    "        tf.truncated_normal([vocabulary_size, embedding_size],\n",
    "                            stddev=1.0 / math.sqrt(embedding_size)))\n",
    "    nce_biases = tf.Variable(tf.zeros([vocabulary_size]))\n",
    "\n",
    "  # Compute the average NCE loss for the batch.\n",
    "  # tf.nce_loss automatically draws a new sample of the negative labels each\n",
    "  # time we evaluate the loss.\n",
    "  loss = tf.reduce_mean(\n",
    "      tf.nn.nce_loss(weights=nce_weights,\n",
    "                     biases=nce_biases,\n",
    "                     labels=train_labels,\n",
    "                     inputs=embed,\n",
    "                     num_sampled=num_sampled,\n",
    "                     num_classes=vocabulary_size))\n",
    "\n",
    "  # Construct the SGD optimizer using a learning rate of 1.0.\n",
    "  optimizer = tf.train.GradientDescentOptimizer(1.0).minimize(loss)\n",
    "\n",
    "  # Compute the cosine similarity between minibatch examples and all embeddings.\n",
    "  norm = tf.sqrt(tf.reduce_sum(tf.square(embeddings), 1, keepdims=True))\n",
    "  normalized_embeddings = embeddings / norm\n",
    "  valid_embeddings = tf.nn.embedding_lookup(\n",
    "      normalized_embeddings, valid_dataset)\n",
    "  similarity = tf.matmul(\n",
    "      valid_embeddings, normalized_embeddings, transpose_b=True)\n",
    "  print(similarity)\n",
    "  # Add variable initializer.\n",
    "  init = tf.global_variables_initializer()"
   ]
  },
  {
   "cell_type": "code",
   "execution_count": 28,
   "metadata": {
    "collapsed": true
   },
   "outputs": [],
   "source": [
    "num_steps = 20001"
   ]
  },
  {
   "cell_type": "code",
   "execution_count": 29,
   "metadata": {},
   "outputs": [
    {
     "name": "stdout",
     "output_type": "stream",
     "text": [
      "Initialized\n",
      "Average loss at step  0 :  314.9900817871094\n",
      "Nearest to april: prinze, kimura, aggressively, nizao, profit, haldeman, applauded, cinderella,\n",
      "Nearest to year: sham, airships, carf, nawab, flags, contempt, lans, ledbetter,\n",
      "Nearest to world: uda, surgeons, schindler, grades, paperback, spool, axle, schwartz,\n",
      "Nearest to country: swain, extant, tamura, flop, evidences, pains, sel, transitioned,\n",
      "Nearest to his: hymns, doubleday, towne, measurements, note, mauser, bora, shafts,\n",
      "Nearest to with: neil, kurek, iserlohn, puckett, ussel, pacifica, supervises, harpist,\n",
      "Nearest to there: tennis, grandfathers, telephones, same, endymion, indycar, löw, want,\n",
      "Nearest to new: satire, remainder, cerri, mena, monestier, shoreline, applying, mutated,\n",
      "Nearest to states: corps, madhavan, bossa, icarus, breastfeeding, otello, sacs, passed,\n",
      "Nearest to in: invisible, sergey, warped, monitoring, urbain, mrt, aidan, compatibility,\n",
      "Nearest to part: domain, federated, anchovies, suffocation, heated, adriana, settlers, archaeological,\n",
      "Nearest to but: gameplay, metalwork, nightclub, maw, backhand, averroes, lore, nunc,\n",
      "Nearest to their: ornamentation, indra, linde, outback, workforce, hor, tui, excuses,\n",
      "Nearest to de: nights, etc, chillán, taiwanese, earl, propositional, babchuk, kotoba,\n",
      "Nearest to of: arlay, earthsea, means, kapoor, partnerships, khalifa, kalan, backus,\n",
      "Nearest to the: marcella, waylon, adana, asiatic, swedes, suzie, catalina, pips,\n",
      "Average loss at step  2000 :  113.26808284568787\n",
      "Average loss at step  4000 :  51.193124978303906\n",
      "Average loss at step  6000 :  33.94256964969635\n",
      "Average loss at step  8000 :  23.009569490671158\n",
      "Average loss at step  10000 :  18.838598986059427\n",
      "Nearest to april: región, turk, researchers, creates, committed, walked, oath, luther,\n",
      "Nearest to year: bars, covers, sell, radio, even, flags, mind, interval,\n",
      "Nearest to world: paperback, grades, premiere, blood, uda, morne, comic, schindler,\n",
      "Nearest to country: types, missing, pawn, likes, pains, litre, saints, earlier,\n",
      "Nearest to his: measurements, the, note, naval, duke, pdp, frontal, call,\n",
      "Nearest to with: or, redfield, by, books, and, neil, discuss, fiba,\n",
      "Nearest to there: gnome, owned, dating, characterized, tvs, soap, ryan, networks,\n",
      "Nearest to new: until, lisbon, doctoral, determine, ebola, baobab, loyal, scandal,\n",
      "Nearest to states: regionalliga, sacs, kenya, passed, corps, oïl, rotating, great,\n",
      "Nearest to in: and, of, for, from, on, regionalliga, ssr, tenggara,\n",
      "Nearest to part: federated, arguments, heated, domain, kalimantan, paint, result, tornado,\n",
      "Nearest to but: however, nightclub, links, chen, predict, baobab, averroes, athletics,\n",
      "Nearest to their: midfielder, scotland, artists, wire, percent, controlling, evaporation, compare,\n",
      "Nearest to de: etc, baobab, earl, insecticides, nights, injuring, taiwanese, host,\n",
      "Nearest to of: in, and, fig, or, bengal, chen, drink, pdp,\n",
      "Nearest to the: regionalliga, ssr, his, wisdom, kalimantan, tenggara, resembled, this,\n",
      "Average loss at step  12000 :  14.629679771721364\n",
      "Average loss at step  14000 :  12.216244498729706\n",
      "Average loss at step  16000 :  9.246240919351578\n",
      "Average loss at step  18000 :  8.967043313860893\n",
      "Average loss at step  20000 :  8.494182372570037\n",
      "Nearest to april: región, marlboro, turk, propagation, wes, march, prayers, walked,\n",
      "Nearest to year: potomac, ndebele, bars, radio, anybody, rashid, itt, sell,\n",
      "Nearest to world: uda, paperback, grades, safari, blood, schindler, anatoly, tomas,\n",
      "Nearest to country: manifold, pawn, saints, likes, missing, pains, earlier, former,\n",
      "Nearest to his: their, the, naval, her, measurements, its, ferrari, karen,\n",
      "Nearest to with: or, by, for, redfield, geograph, braille, discuss, books,\n",
      "Nearest to there: they, which, gnome, she, dating, owned, characterized, ryan,\n",
      "Nearest to new: lisbon, determine, until, hatched, doctoral, questioned, lemonade, helpful,\n",
      "Nearest to states: regionalliga, sacs, passed, kingdom, corps, kenya, thanjavur, zeeman,\n",
      "Nearest to in: on, at, from, of, by, lb, during, for,\n",
      "Nearest to part: federated, arguments, result, economics, heated, kalimantan, archaeological, tauri,\n",
      "Nearest to but: however, nightclub, that, were, struve, marrow, links, marlboro,\n",
      "Nearest to their: his, the, her, scotland, catalog, midfielder, wire, controlling,\n",
      "Nearest to de: etc, baobab, injuring, nights, earl, pratchett, width, ports,\n",
      "Nearest to of: in, shakespearean, braille, eckernförde, county, observing, pdp, fig,\n",
      "Nearest to the: wisdom, his, kalimantan, scuderia, their, mandela, ssr, dialogue,\n"
     ]
    }
   ],
   "source": [
    "with tf.Session(graph=graph) as session:\n",
    "  # We must initialize all variables before we use them.\n",
    "  init.run()\n",
    "  print('Initialized')\n",
    "\n",
    "  average_loss = 0\n",
    "  for step in xrange(num_steps):\n",
    "    batch_inputs, batch_labels = generate_batch(\n",
    "        batch_size, num_skips, skip_window)\n",
    "    feed_dict = {train_inputs: batch_inputs, train_labels: batch_labels}\n",
    "\n",
    "    # We perform one update step by evaluating the optimizer op (including it\n",
    "    # in the list of returned values for session.run()\n",
    "    _, loss_val = session.run([optimizer, loss], feed_dict=feed_dict)\n",
    "    average_loss += loss_val\n",
    "\n",
    "    if step % 2000 == 0:\n",
    "      if step > 0:\n",
    "        average_loss /= 2000\n",
    "      # The average loss is an estimate of the loss over the last 2000 batches.\n",
    "      print('Average loss at step ', step, ': ', average_loss)\n",
    "      average_loss = 0\n",
    "\n",
    "    # Note that this is expensive (~20% slowdown if computed every 500 steps)\n",
    "    if step % 10000 == 0:\n",
    "      sim = similarity.eval()\n",
    "      for i in xrange(valid_size):\n",
    "        valid_word = reverse_dictionary[valid_examples[i]]\n",
    "        top_k = 8  # number of nearest neighbors\n",
    "        nearest = (-sim[i, :]).argsort()[1:top_k + 1]\n",
    "        log_str = 'Nearest to %s:' % valid_word\n",
    "        for k in xrange(top_k):\n",
    "          close_word = reverse_dictionary[nearest[k]]\n",
    "          log_str = '%s %s,' % (log_str, close_word)\n",
    "        print(log_str)\n",
    "  final_embeddings = normalized_embeddings.eval()"
   ]
  },
  {
   "cell_type": "code",
   "execution_count": 31,
   "metadata": {
    "collapsed": true
   },
   "outputs": [],
   "source": [
    "try:\n",
    "  # pylint: disable=g-import-not-at-top\n",
    "    from sklearn.manifold import TSNE\n",
    "    import matplotlib.pyplot as plt\n",
    "\n",
    "    tsne = TSNE(perplexity=30, n_components=2, init='pca', n_iter=5000, method='exact')\n",
    "    plot_only = 500\n",
    "    low_dim_embs = tsne.fit_transform(final_embeddings[:plot_only, :])\n",
    "    labels = [reverse_dictionary[i] for i in xrange(plot_only)]\n",
    "    plot_with_labels(low_dim_embs, labels)\n",
    "\n",
    "except ImportError:\n",
    "    print('Please install sklearn, matplotlib, and scipy to show embeddings.')"
   ]
  },
  {
   "cell_type": "code",
   "execution_count": 33,
   "metadata": {},
   "outputs": [
    {
     "name": "stdout",
     "output_type": "stream",
     "text": [
      "['the', 'of', 'in']\n",
      "[array([-0.28205192, -0.11378258,  0.27501428, -0.12458557, -0.21936645,\n",
      "       -0.10316052, -0.11320788, -0.04106405,  0.0241688 ,  0.01947027,\n",
      "        0.00786876, -0.05021696,  0.0916545 , -0.18406476,  0.08837993,\n",
      "       -0.08763159,  0.18055297,  0.07370386,  0.05986102, -0.11189407,\n",
      "        0.07325902, -0.02358193, -0.02638974,  0.2833917 , -0.11093546,\n",
      "       -0.01607505,  0.06869192, -0.01602526, -0.08043829, -0.25877067,\n",
      "        0.08388104,  0.00499224, -0.15483576, -0.12541945, -0.16265844,\n",
      "       -0.10827539,  0.09608718, -0.27601278, -0.221907  ,  0.04579188,\n",
      "        0.09454805,  0.07013384, -0.02252553,  0.04753075,  0.08033574,\n",
      "        0.08738975,  0.03322274, -0.06390604,  0.07417992,  0.05982525,\n",
      "        0.03346559,  0.04952756,  0.2215307 , -0.07427252, -0.04072355,\n",
      "       -0.13680652,  0.11554171, -0.2491798 ,  0.04700441,  0.16385177],\n",
      "      dtype=float32), array([-0.142543  , -0.03229989, -0.09574114, -0.13398823, -0.14520948,\n",
      "       -0.00291673, -0.0434906 ,  0.05606627,  0.13672383, -0.04359743,\n",
      "        0.02950512, -0.1664562 ,  0.00720729, -0.02277381,  0.08486208,\n",
      "       -0.00082502,  0.13964884,  0.00976379,  0.0781472 , -0.02601156,\n",
      "        0.2327926 ,  0.17524368, -0.10697196,  0.05783961, -0.24969971,\n",
      "        0.07415854,  0.14610454,  0.02398718, -0.03580773,  0.17216708,\n",
      "        0.03643548, -0.02110583, -0.12481429, -0.05322673, -0.11955988,\n",
      "       -0.14197908, -0.12153976, -0.10346935,  0.03504502, -0.01065825,\n",
      "        0.1469865 , -0.03299488, -0.08305574, -0.02820192, -0.06675708,\n",
      "       -0.0578443 ,  0.10517973, -0.1297127 ,  0.2271722 ,  0.0505799 ,\n",
      "       -0.2375443 , -0.03806247,  0.30845603, -0.15246923, -0.17175665,\n",
      "        0.13843764,  0.10462268, -0.24587439, -0.10488231,  0.335624  ],\n",
      "      dtype=float32), array([-0.26421133, -0.00586643,  0.04987618, -0.13576944, -0.12068047,\n",
      "       -0.0167253 , -0.08368888,  0.06196224,  0.08736727, -0.16429129,\n",
      "       -0.07286945, -0.04012731, -0.08687731, -0.10490213, -0.01586083,\n",
      "       -0.23195449,  0.08104417,  0.0443097 ,  0.09325568,  0.01590373,\n",
      "        0.04749002,  0.05108492, -0.18786189,  0.01930536, -0.14238024,\n",
      "        0.10391705,  0.10713121,  0.19896877, -0.02198358,  0.10404982,\n",
      "        0.05729447,  0.0362373 , -0.17457196, -0.0473478 ,  0.03953585,\n",
      "       -0.08591972,  0.00316907, -0.19025351, -0.1092222 , -0.07895176,\n",
      "        0.03325643,  0.03705208,  0.04164089,  0.23872061,  0.11193528,\n",
      "       -0.0145181 ,  0.27210724, -0.00334412,  0.09643048,  0.12847306,\n",
      "       -0.23422265,  0.13212022,  0.15473716, -0.12372941, -0.03907585,\n",
      "        0.24042477,  0.14997952, -0.18908054, -0.18260276,  0.28465325],\n",
      "      dtype=float32)]\n",
      "Cosine Similiary of  the -0.09154895\n",
      "Cosine Similiary of  of 0.13386098\n",
      "Cosine Similiary of  in 0.052064084\n"
     ]
    }
   ],
   "source": [
    "datafr = pd.read_csv(\"Old.csv\")\n",
    "\n",
    "basic_word_lis = datafr.columns.values.tolist()\n",
    "\n",
    "newLis = datafr.iloc[1:]\n",
    "print(basic_word_lis)\n",
    "\n",
    "dict1 = {}\n",
    "for i in range(len(count)):\n",
    "    if count[i][0] in basic_word_lis:\n",
    "        dict1[count[i]] = i\n",
    "\n",
    "list_final_embeddings_simple_Wiki = []\n",
    "for key in dict1:\n",
    "    list_final_embeddings_simple_Wiki.append(final_embeddings[dict1[key]])\n",
    "print(list_final_embeddings_simple_Wiki)\n",
    "\n",
    "a = tf.placeholder(tf.float32, shape=[None], name=\"vector_placeholder_simplewiki\")\n",
    "b = tf.placeholder(tf.float32, shape=[None], name=\"vector_placeholder_basic\")\n",
    "normalize_a = tf.nn.l2_normalize(a,0)        \n",
    "normalize_b = tf.nn.l2_normalize(b,0)\n",
    "cos_similarity=tf.reduce_sum(tf.multiply(normalize_a,normalize_b))\n",
    "sess=tf.Session()\n",
    "\n",
    "for key in dict1:\n",
    "    cos_sim=sess.run(cos_similarity,feed_dict={a: datafr[key[0]],b: final_embeddings[dict1[key]] })\n",
    "    print(\"Cosine Similiary of \", key[0], cos_sim)\n",
    "\n",
    "sess.close()"
   ]
  },
  {
   "cell_type": "code",
   "execution_count": null,
   "metadata": {
    "collapsed": true
   },
   "outputs": [],
   "source": []
  }
 ],
 "metadata": {
  "kernelspec": {
   "display_name": "Python 3",
   "language": "python",
   "name": "python3"
  },
  "language_info": {
   "codemirror_mode": {
    "name": "ipython",
    "version": 3
   },
   "file_extension": ".py",
   "mimetype": "text/x-python",
   "name": "python",
   "nbconvert_exporter": "python",
   "pygments_lexer": "ipython3",
   "version": "3.6.3"
  },
  "toc": {
   "nav_menu": {},
   "number_sections": true,
   "sideBar": true,
   "skip_h1_title": false,
   "toc_cell": false,
   "toc_position": {},
   "toc_section_display": "block",
   "toc_window_display": false
  }
 },
 "nbformat": 4,
 "nbformat_minor": 2
}
